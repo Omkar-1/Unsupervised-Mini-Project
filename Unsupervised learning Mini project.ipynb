{
 "cells": [
  {
   "cell_type": "code",
   "execution_count": 1,
   "metadata": {},
   "outputs": [],
   "source": [
    "import pandas as pd\n",
    "import seaborn as sns\n",
    "import numpy as np\n",
    "import matplotlib.pyplot as plt"
   ]
  },
  {
   "cell_type": "markdown",
   "metadata": {
    "colab_type": "text",
    "id": "qu_OG92m_frE"
   },
   "source": [
    "### The data set has information about features of silhouette extracted from the images of different cars\n",
    "\n",
    "Four \"Corgie\" model vehicles were used for the experiment: a double decker bus, Cheverolet van, Saab 9000 and an Opel Manta 400 cars. This particular combination of vehicles was chosen with the expectation that the bus, van and either one of the cars would be readily distinguishable, but it would be more difficult to distinguish between the cars.\n",
    "\n"
   ]
  },
  {
   "cell_type": "markdown",
   "metadata": {
    "colab_type": "text",
    "id": "h2Vv5KVp_frG"
   },
   "source": [
    "### 1. Read the dataset using function .dropna() - to avoid dealing with NAs as of now"
   ]
  },
  {
   "cell_type": "code",
   "execution_count": 18,
   "metadata": {
    "colab": {},
    "colab_type": "code",
    "id": "CB0MG7S7_frW",
    "outputId": "cf98a031-e018-4cf2-d0b2-99aeaf34cd64"
   },
   "outputs": [
    {
     "name": "stdout",
     "output_type": "stream",
     "text": [
      "Before dropping number of rows: 846\n",
      "No of null values Before dropping rows 41\n",
      "After dropping number of rows: 813\n",
      "No of null values after dropping rows 0\n"
     ]
    }
   ],
   "source": [
    "df = pd.read_csv('vehicle.csv')\n",
    "print('Before dropping number of rows:',df.shape[0])\n",
    "print('No of null values Before dropping rows',df.isnull().sum().sum())\n",
    "df.dropna(axis=0,how='any',inplace=True)\n",
    "print('After dropping number of rows:',df.shape[0])\n",
    "print('No of null values after dropping rows',df.isnull().sum().sum())"
   ]
  },
  {
   "cell_type": "markdown",
   "metadata": {
    "colab_type": "text",
    "id": "GoxTqSl__fra"
   },
   "source": [
    "### 2. Print/ Plot the dependent (categorical variable) - Class column"
   ]
  },
  {
   "cell_type": "markdown",
   "metadata": {
    "colab_type": "text",
    "id": "Aj4R9dfr_frb"
   },
   "source": [
    "Since the variable is categorical, you can use value_counts function"
   ]
  },
  {
   "cell_type": "code",
   "execution_count": 23,
   "metadata": {
    "colab": {},
    "colab_type": "code",
    "id": "4jFodExI_frk",
    "outputId": "86647032-fd4e-45eb-f328-b1e0921641df"
   },
   "outputs": [
    {
     "name": "stderr",
     "output_type": "stream",
     "text": [
      "C:\\Users\\Admin\\anaconda3\\lib\\site-packages\\seaborn\\_decorators.py:36: FutureWarning: Pass the following variable as a keyword arg: x. From version 0.12, the only valid positional argument will be `data`, and passing other arguments without an explicit keyword will result in an error or misinterpretation.\n",
      "  warnings.warn(\n"
     ]
    },
    {
     "data": {
      "text/plain": [
       "<AxesSubplot:xlabel='class', ylabel='count'>"
      ]
     },
     "execution_count": 23,
     "metadata": {},
     "output_type": "execute_result"
    },
    {
     "data": {
      "image/png": "[encoded data removed]",
      "text/plain": [
       "<Figure size 432x288 with 1 Axes>"
      ]
     },
     "metadata": {
      "needs_background": "light"
     },
     "output_type": "display_data"
    }
   ],
   "source": [
    "sns.countplot(df['class'],palette='Blues')"
   ]
  },
  {
   "cell_type": "markdown",
   "metadata": {
    "colab_type": "text",
    "id": "j7dHDxSN_frp"
   },
   "source": [
    "### 3. Check for any missing values in the data "
   ]
  },
  {
   "cell_type": "code",
   "execution_count": 25,
   "metadata": {
    "colab": {},
    "colab_type": "code",
    "id": "HEQTd1bc_frr",
    "outputId": "2da786d3-7e91-4a26-cbca-25b36cf1dbe7"
   },
   "outputs": [
    {
     "name": "stdout",
     "output_type": "stream",
     "text": [
      "<class 'pandas.core.frame.DataFrame'>\n",
      "Int64Index: 813 entries, 0 to 845\n",
      "Data columns (total 19 columns):\n",
      " #   Column                       Non-Null Count  Dtype  \n",
      "---  ------                       --------------  -----  \n",
      " 0   compactness                  813 non-null    int64  \n",
      " 1   circularity                  813 non-null    float64\n",
      " 2   distance_circularity         813 non-null    float64\n",
      " 3   radius_ratio                 813 non-null    float64\n",
      " 4   pr.axis_aspect_ratio         813 non-null    float64\n",
      " 5   max.length_aspect_ratio      813 non-null    int64  \n",
      " 6   scatter_ratio                813 non-null    float64\n",
      " 7   elongatedness                813 non-null    float64\n",
      " 8   pr.axis_rectangularity       813 non-null    float64\n",
      " 9   max.length_rectangularity    813 non-null    int64  \n",
      " 10  scaled_variance              813 non-null    float64\n",
      " 11  scaled_variance.1            813 non-null    float64\n",
      " 12  scaled_radius_of_gyration    813 non-null    float64\n",
      " 13  scaled_radius_of_gyration.1  813 non-null    float64\n",
      " 14  skewness_about               813 non-null    float64\n",
      " 15  skewness_about.1             813 non-null    float64\n",
      " 16  skewness_about.2             813 non-null    float64\n",
      " 17  hollows_ratio                813 non-null    int64  \n",
      " 18  class                        813 non-null    object \n",
      "dtypes: float64(14), int64(4), object(1)\n",
      "memory usage: 159.3+ KB\n"
     ]
    }
   ],
   "source": [
    "df.info()"
   ]
  },
  {
   "cell_type": "markdown",
   "metadata": {
    "colab_type": "text",
    "id": "uOF7TxwQ_frt"
   },
   "source": [
    "### 4. Standardize the data "
   ]
  },
  {
   "cell_type": "markdown",
   "metadata": {
    "colab_type": "text",
    "id": "6kIiPrxN_frv"
   },
   "source": [
    "Since the dimensions of the data are not really known to us, it would be wise to standardize the data using z scores before we go for any clustering methods.\n",
    "You can use zscore function to do this"
   ]
  },
  {
   "cell_type": "code",
   "execution_count": 55,
   "metadata": {
    "colab": {},
    "colab_type": "code",
    "id": "QvHHOVa7_fr_",
    "outputId": "25595edf-5f4c-4948-93dd-5466fdc613fb"
   },
   "outputs": [
    {
     "data": {
      "text/html": [
       "<div>\n",
       "<style scoped>\n",
       "    .dataframe tbody tr th:only-of-type {\n",
       "        vertical-align: middle;\n",
       "    }\n",
       "\n",
       "    .dataframe tbody tr th {\n",
       "        vertical-align: top;\n",
       "    }\n",
       "\n",
       "    .dataframe thead th {\n",
       "        text-align: right;\n",
       "    }\n",
       "</style>\n",
       "<table border=\"1\" class=\"dataframe\">\n",
       "  <thead>\n",
       "    <tr style=\"text-align: right;\">\n",
       "      <th></th>\n",
       "      <th>compactness</th>\n",
       "      <th>circularity</th>\n",
       "      <th>distance_circularity</th>\n",
       "      <th>radius_ratio</th>\n",
       "      <th>pr.axis_aspect_ratio</th>\n",
       "      <th>max.length_aspect_ratio</th>\n",
       "      <th>scatter_ratio</th>\n",
       "      <th>elongatedness</th>\n",
       "      <th>pr.axis_rectangularity</th>\n",
       "      <th>max.length_rectangularity</th>\n",
       "      <th>scaled_variance</th>\n",
       "      <th>scaled_variance.1</th>\n",
       "      <th>scaled_radius_of_gyration</th>\n",
       "      <th>scaled_radius_of_gyration.1</th>\n",
       "      <th>skewness_about</th>\n",
       "      <th>skewness_about.1</th>\n",
       "      <th>skewness_about.2</th>\n",
       "      <th>hollows_ratio</th>\n",
       "    </tr>\n",
       "  </thead>\n",
       "  <tbody>\n",
       "    <tr>\n",
       "      <th>0</th>\n",
       "      <td>0.163231</td>\n",
       "      <td>0.520408</td>\n",
       "      <td>0.060669</td>\n",
       "      <td>0.264970</td>\n",
       "      <td>1.283254</td>\n",
       "      <td>0.299721</td>\n",
       "      <td>-0.198517</td>\n",
       "      <td>0.129648</td>\n",
       "      <td>-0.217151</td>\n",
       "      <td>0.766312</td>\n",
       "      <td>-0.397397</td>\n",
       "      <td>-0.339014</td>\n",
       "      <td>0.301676</td>\n",
       "      <td>-0.321192</td>\n",
       "      <td>-0.071523</td>\n",
       "      <td>0.371287</td>\n",
       "      <td>-0.321809</td>\n",
       "      <td>0.171837</td>\n",
       "    </tr>\n",
       "    <tr>\n",
       "      <th>1</th>\n",
       "      <td>-0.322874</td>\n",
       "      <td>-0.619123</td>\n",
       "      <td>0.124067</td>\n",
       "      <td>-0.836393</td>\n",
       "      <td>-0.599253</td>\n",
       "      <td>0.085785</td>\n",
       "      <td>-0.591720</td>\n",
       "      <td>0.514333</td>\n",
       "      <td>-0.606014</td>\n",
       "      <td>-0.337462</td>\n",
       "      <td>-0.590034</td>\n",
       "      <td>-0.618754</td>\n",
       "      <td>-0.502972</td>\n",
       "      <td>-0.053505</td>\n",
       "      <td>0.538425</td>\n",
       "      <td>0.147109</td>\n",
       "      <td>0.003400</td>\n",
       "      <td>0.442318</td>\n",
       "    </tr>\n",
       "    <tr>\n",
       "      <th>2</th>\n",
       "      <td>1.256966</td>\n",
       "      <td>0.845988</td>\n",
       "      <td>1.518823</td>\n",
       "      <td>1.187734</td>\n",
       "      <td>0.530251</td>\n",
       "      <td>0.299721</td>\n",
       "      <td>1.162569</td>\n",
       "      <td>-1.152637</td>\n",
       "      <td>0.949438</td>\n",
       "      <td>0.697326</td>\n",
       "      <td>1.111591</td>\n",
       "      <td>1.122486</td>\n",
       "      <td>1.415804</td>\n",
       "      <td>0.080339</td>\n",
       "      <td>1.555006</td>\n",
       "      <td>-0.413338</td>\n",
       "      <td>-0.159204</td>\n",
       "      <td>0.036596</td>\n",
       "    </tr>\n",
       "    <tr>\n",
       "      <th>3</th>\n",
       "      <td>-0.079822</td>\n",
       "      <td>-0.619123</td>\n",
       "      <td>-0.002729</td>\n",
       "      <td>-0.300595</td>\n",
       "      <td>0.153750</td>\n",
       "      <td>0.085785</td>\n",
       "      <td>-0.742952</td>\n",
       "      <td>0.642562</td>\n",
       "      <td>-0.606014</td>\n",
       "      <td>-0.337462</td>\n",
       "      <td>-0.911095</td>\n",
       "      <td>-0.738643</td>\n",
       "      <td>-1.462359</td>\n",
       "      <td>-1.258099</td>\n",
       "      <td>-0.071523</td>\n",
       "      <td>-0.301249</td>\n",
       "      <td>1.629444</td>\n",
       "      <td>1.524243</td>\n",
       "    </tr>\n",
       "    <tr>\n",
       "      <th>4</th>\n",
       "      <td>-1.052030</td>\n",
       "      <td>-0.130753</td>\n",
       "      <td>-0.763506</td>\n",
       "      <td>1.068668</td>\n",
       "      <td>5.173770</td>\n",
       "      <td>9.285029</td>\n",
       "      <td>-0.591720</td>\n",
       "      <td>0.514333</td>\n",
       "      <td>-0.606014</td>\n",
       "      <td>-0.268476</td>\n",
       "      <td>1.689501</td>\n",
       "      <td>-0.647299</td>\n",
       "      <td>0.425468</td>\n",
       "      <td>7.307905</td>\n",
       "      <td>0.538425</td>\n",
       "      <td>-0.189159</td>\n",
       "      <td>-1.460039</td>\n",
       "      <td>-1.721531</td>\n",
       "    </tr>\n",
       "  </tbody>\n",
       "</table>\n",
       "</div>"
      ],
      "text/plain": [
       "   compactness  circularity  distance_circularity  radius_ratio  \\\n",
       "0     0.163231     0.520408              0.060669      0.264970   \n",
       "1    -0.322874    -0.619123              0.124067     -0.836393   \n",
       "2     1.256966     0.845988              1.518823      1.187734   \n",
       "3    -0.079822    -0.619123             -0.002729     -0.300595   \n",
       "4    -1.052030    -0.130753             -0.763506      1.068668   \n",
       "\n",
       "   pr.axis_aspect_ratio  max.length_aspect_ratio  scatter_ratio  \\\n",
       "0              1.283254                 0.299721      -0.198517   \n",
       "1             -0.599253                 0.085785      -0.591720   \n",
       "2              0.530251                 0.299721       1.162569   \n",
       "3              0.153750                 0.085785      -0.742952   \n",
       "4              5.173770                 9.285029      -0.591720   \n",
       "\n",
       "   elongatedness  pr.axis_rectangularity  max.length_rectangularity  \\\n",
       "0       0.129648               -0.217151                   0.766312   \n",
       "1       0.514333               -0.606014                  -0.337462   \n",
       "2      -1.152637                0.949438                   0.697326   \n",
       "3       0.642562               -0.606014                  -0.337462   \n",
       "4       0.514333               -0.606014                  -0.268476   \n",
       "\n",
       "   scaled_variance  scaled_variance.1  scaled_radius_of_gyration  \\\n",
       "0        -0.397397          -0.339014                   0.301676   \n",
       "1        -0.590034          -0.618754                  -0.502972   \n",
       "2         1.111591           1.122486                   1.415804   \n",
       "3        -0.911095          -0.738643                  -1.462359   \n",
       "4         1.689501          -0.647299                   0.425468   \n",
       "\n",
       "   scaled_radius_of_gyration.1  skewness_about  skewness_about.1  \\\n",
       "0                    -0.321192       -0.071523          0.371287   \n",
       "1                    -0.053505        0.538425          0.147109   \n",
       "2                     0.080339        1.555006         -0.413338   \n",
       "3                    -1.258099       -0.071523         -0.301249   \n",
       "4                     7.307905        0.538425         -0.189159   \n",
       "\n",
       "   skewness_about.2  hollows_ratio  \n",
       "0         -0.321809       0.171837  \n",
       "1          0.003400       0.442318  \n",
       "2         -0.159204       0.036596  \n",
       "3          1.629444       1.524243  \n",
       "4         -1.460039      -1.721531  "
      ]
     },
     "execution_count": 55,
     "metadata": {},
     "output_type": "execute_result"
    }
   ],
   "source": [
    "from scipy.stats import zscore\n",
    "data = df.drop('class',axis=1).copy()\n",
    "data = data.apply(zscore)\n",
    "data.head()"
   ]
  },
  {
   "cell_type": "markdown",
   "metadata": {
    "colab_type": "text",
    "id": "wYh90u-g_fsF"
   },
   "source": [
    "### K - Means Clustering"
   ]
  },
  {
   "cell_type": "markdown",
   "metadata": {
    "colab_type": "text",
    "id": "6UfbOSle_fsF"
   },
   "source": [
    "### 5. Assign a dummy array called distortion"
   ]
  },
  {
   "cell_type": "markdown",
   "metadata": {
    "colab_type": "text",
    "id": "zvp3u_Sr_fsG"
   },
   "source": [
    "You can later use this array to plot the elbow plot"
   ]
  },
  {
   "cell_type": "code",
   "execution_count": 56,
   "metadata": {
    "colab": {},
    "colab_type": "code",
    "id": "da4KgLpj_fsJ"
   },
   "outputs": [],
   "source": [
    "distortion = []"
   ]
  },
  {
   "cell_type": "markdown",
   "metadata": {
    "colab_type": "text",
    "id": "LddyFnZW_fsO"
   },
   "source": [
    "### 6. Calculating distortion - C distance"
   ]
  },
  {
   "cell_type": "markdown",
   "metadata": {
    "colab_type": "text",
    "id": "fwxCYkN6_fsP"
   },
   "source": [
    "Iterating values of k from 1 to 10 fit K means model\n",
    "Using c distance - Get the measure for Sum of squares error."
   ]
  },
  {
   "cell_type": "markdown",
   "metadata": {
    "colab_type": "text",
    "id": "R1NEP9ah_fsP"
   },
   "source": [
    "**Here, logically K-Means attempts to minimize distortion defined by the the sum of the squared distances between each observation and its closest centroid.**"
   ]
  },
  {
   "cell_type": "code",
   "execution_count": 57,
   "metadata": {
    "colab": {},
    "colab_type": "code",
    "id": "NDTS685e_fsQ"
   },
   "outputs": [],
   "source": [
    "k = [i for i in range(1,10)]\n",
    "from sklearn.cluster import KMeans\n",
    "for i in k:\n",
    "    model = KMeans(n_clusters=i)\n",
    "    model.fit(data)\n",
    "    distortion.append(model.inertia_)"
   ]
  },
  {
   "cell_type": "markdown",
   "metadata": {
    "colab_type": "text",
    "id": "NdomoKhf_fsS"
   },
   "source": [
    "### 7. Plotting Elbow/ Scree Plot"
   ]
  },
  {
   "cell_type": "markdown",
   "metadata": {
    "colab_type": "text",
    "id": "ehzz3z6q_fsT"
   },
   "source": [
    "Use Matplotlib to plot the scree plot - Note: Scree plot plots distortion vs the no of clusters"
   ]
  },
  {
   "cell_type": "code",
   "execution_count": 72,
   "metadata": {
    "colab": {},
    "colab_type": "code",
    "id": "v1xh8XxP_fsU",
    "outputId": "72d4f5de-7ca3-4d04-b196-1e499aa160d5"
   },
   "outputs": [
    {
     "data": {
      "image/png": "[encoded data removed]",
      "text/plain": [
       "<Figure size 576x396 with 1 Axes>"
      ]
     },
     "metadata": {},
     "output_type": "display_data"
    }
   ],
   "source": [
    "plt.plot(k,distortion,'--',color = 'red',marker='s')\n",
    "plt.xlabel('n_clusters')\n",
    "plt.ylabel('Distortion')\n",
    "plt.title('Elbow Curve / Scree Plot')\n",
    "plt.axvline(x=4.0, linestyle='--', c='b',label='Elbow')\n",
    "plt.legend()\n",
    "plt.show()"
   ]
  },
  {
   "cell_type": "markdown",
   "metadata": {
    "colab_type": "text",
    "id": "w_EZbvnu_fsX"
   },
   "source": [
    "### 8. Find out the optimal value of K"
   ]
  },
  {
   "cell_type": "code",
   "execution_count": 59,
   "metadata": {
    "colab_type": "text",
    "id": "e9cQ8I4c_fsY"
   },
   "outputs": [],
   "source": [
    "# the graph or the elbow shows the best k value at 4"
   ]
  },
  {
   "cell_type": "markdown",
   "metadata": {
    "colab_type": "text",
    "id": "Sc-xTeaI_fsY"
   },
   "source": [
    "### 9. Using optimal value of K - Cluster the data. \n",
    "Note: Since the data has more than 2 dimension we cannot visualize the data. As an alternative, we can observe the centroids and note how they are distributed across different dimensions"
   ]
  },
  {
   "cell_type": "code",
   "execution_count": 60,
   "metadata": {
    "colab": {},
    "colab_type": "code",
    "id": "0Eb4xoNi_fsZ"
   },
   "outputs": [],
   "source": [
    "model = KMeans(n_clusters=4)\n",
    "model.fit(data)\n",
    "center = model.cluster_centers_"
   ]
  },
  {
   "cell_type": "markdown",
   "metadata": {
    "colab_type": "text",
    "id": "lek8vZ_f_fsh"
   },
   "source": [
    "### 10. Store the centroids in a dataframe with column names from the original dataset given "
   ]
  },
  {
   "cell_type": "markdown",
   "metadata": {
    "colab_type": "text",
    "id": "m5AoR2Dz_fsj"
   },
   "source": [
    "Hint: Use pd.Dataframe function "
   ]
  },
  {
   "cell_type": "code",
   "execution_count": 61,
   "metadata": {
    "colab": {},
    "colab_type": "code",
    "id": "pqsmQ0iQ_fsn",
    "outputId": "33112068-44e2-42d1-af97-576ed961b84e"
   },
   "outputs": [
    {
     "data": {
      "text/html": [
       "<div>\n",
       "<style scoped>\n",
       "    .dataframe tbody tr th:only-of-type {\n",
       "        vertical-align: middle;\n",
       "    }\n",
       "\n",
       "    .dataframe tbody tr th {\n",
       "        vertical-align: top;\n",
       "    }\n",
       "\n",
       "    .dataframe thead tr th {\n",
       "        text-align: left;\n",
       "    }\n",
       "</style>\n",
       "<table border=\"1\" class=\"dataframe\">\n",
       "  <thead>\n",
       "    <tr>\n",
       "      <th></th>\n",
       "      <th>compactness</th>\n",
       "      <th>circularity</th>\n",
       "      <th>distance_circularity</th>\n",
       "      <th>radius_ratio</th>\n",
       "      <th>pr.axis_aspect_ratio</th>\n",
       "      <th>max.length_aspect_ratio</th>\n",
       "      <th>scatter_ratio</th>\n",
       "      <th>elongatedness</th>\n",
       "      <th>pr.axis_rectangularity</th>\n",
       "      <th>max.length_rectangularity</th>\n",
       "      <th>scaled_variance</th>\n",
       "      <th>scaled_variance.1</th>\n",
       "      <th>scaled_radius_of_gyration</th>\n",
       "      <th>scaled_radius_of_gyration.1</th>\n",
       "      <th>skewness_about</th>\n",
       "      <th>skewness_about.1</th>\n",
       "      <th>skewness_about.2</th>\n",
       "      <th>hollows_ratio</th>\n",
       "    </tr>\n",
       "  </thead>\n",
       "  <tbody>\n",
       "    <tr>\n",
       "      <th>0</th>\n",
       "      <td>-0.920172</td>\n",
       "      <td>-0.507081</td>\n",
       "      <td>-0.864378</td>\n",
       "      <td>-1.058016</td>\n",
       "      <td>-0.534725</td>\n",
       "      <td>-0.313504</td>\n",
       "      <td>-0.765483</td>\n",
       "      <td>0.839837</td>\n",
       "      <td>-0.735110</td>\n",
       "      <td>-0.481858</td>\n",
       "      <td>-0.781891</td>\n",
       "      <td>-0.770747</td>\n",
       "      <td>-0.377175</td>\n",
       "      <td>0.751184</td>\n",
       "      <td>-0.101980</td>\n",
       "      <td>-0.310325</td>\n",
       "      <td>-1.021600</td>\n",
       "      <td>-1.074348</td>\n",
       "    </tr>\n",
       "    <tr>\n",
       "      <th>1</th>\n",
       "      <td>0.136047</td>\n",
       "      <td>0.096297</td>\n",
       "      <td>0.259205</td>\n",
       "      <td>0.668973</td>\n",
       "      <td>0.730061</td>\n",
       "      <td>0.420763</td>\n",
       "      <td>0.132601</td>\n",
       "      <td>-0.330962</td>\n",
       "      <td>0.077054</td>\n",
       "      <td>0.056030</td>\n",
       "      <td>0.295419</td>\n",
       "      <td>0.080484</td>\n",
       "      <td>0.083615</td>\n",
       "      <td>-0.150365</td>\n",
       "      <td>0.031472</td>\n",
       "      <td>-0.010701</td>\n",
       "      <td>0.477306</td>\n",
       "      <td>0.408508</td>\n",
       "    </tr>\n",
       "    <tr>\n",
       "      <th>2</th>\n",
       "      <td>1.260341</td>\n",
       "      <td>1.318532</td>\n",
       "      <td>1.302507</td>\n",
       "      <td>0.969997</td>\n",
       "      <td>0.036383</td>\n",
       "      <td>0.262084</td>\n",
       "      <td>1.421063</td>\n",
       "      <td>-1.286802</td>\n",
       "      <td>1.439117</td>\n",
       "      <td>1.246338</td>\n",
       "      <td>1.297687</td>\n",
       "      <td>1.441211</td>\n",
       "      <td>1.225102</td>\n",
       "      <td>-0.041731</td>\n",
       "      <td>0.215567</td>\n",
       "      <td>0.317837</td>\n",
       "      <td>-0.114036</td>\n",
       "      <td>0.142410</td>\n",
       "    </tr>\n",
       "    <tr>\n",
       "      <th>3</th>\n",
       "      <td>-0.331467</td>\n",
       "      <td>-0.879752</td>\n",
       "      <td>-0.541613</td>\n",
       "      <td>-0.251886</td>\n",
       "      <td>0.066913</td>\n",
       "      <td>-0.217831</td>\n",
       "      <td>-0.697124</td>\n",
       "      <td>0.610181</td>\n",
       "      <td>-0.712067</td>\n",
       "      <td>-0.801549</td>\n",
       "      <td>-0.667056</td>\n",
       "      <td>-0.672528</td>\n",
       "      <td>-0.930148</td>\n",
       "      <td>-0.776126</td>\n",
       "      <td>-0.132107</td>\n",
       "      <td>0.048606</td>\n",
       "      <td>1.032407</td>\n",
       "      <td>0.871263</td>\n",
       "    </tr>\n",
       "  </tbody>\n",
       "</table>\n",
       "</div>"
      ],
      "text/plain": [
       "  compactness circularity distance_circularity radius_ratio  \\\n",
       "0   -0.920172   -0.507081            -0.864378    -1.058016   \n",
       "1    0.136047    0.096297             0.259205     0.668973   \n",
       "2    1.260341    1.318532             1.302507     0.969997   \n",
       "3   -0.331467   -0.879752            -0.541613    -0.251886   \n",
       "\n",
       "  pr.axis_aspect_ratio max.length_aspect_ratio scatter_ratio elongatedness  \\\n",
       "0            -0.534725               -0.313504     -0.765483      0.839837   \n",
       "1             0.730061                0.420763      0.132601     -0.330962   \n",
       "2             0.036383                0.262084      1.421063     -1.286802   \n",
       "3             0.066913               -0.217831     -0.697124      0.610181   \n",
       "\n",
       "  pr.axis_rectangularity max.length_rectangularity scaled_variance  \\\n",
       "0              -0.735110                 -0.481858       -0.781891   \n",
       "1               0.077054                  0.056030        0.295419   \n",
       "2               1.439117                  1.246338        1.297687   \n",
       "3              -0.712067                 -0.801549       -0.667056   \n",
       "\n",
       "  scaled_variance.1 scaled_radius_of_gyration scaled_radius_of_gyration.1  \\\n",
       "0         -0.770747                 -0.377175                    0.751184   \n",
       "1          0.080484                  0.083615                   -0.150365   \n",
       "2          1.441211                  1.225102                   -0.041731   \n",
       "3         -0.672528                 -0.930148                   -0.776126   \n",
       "\n",
       "  skewness_about skewness_about.1 skewness_about.2 hollows_ratio  \n",
       "0      -0.101980        -0.310325        -1.021600     -1.074348  \n",
       "1       0.031472        -0.010701         0.477306      0.408508  \n",
       "2       0.215567         0.317837        -0.114036      0.142410  \n",
       "3      -0.132107         0.048606         1.032407      0.871263  "
      ]
     },
     "execution_count": 61,
     "metadata": {},
     "output_type": "execute_result"
    }
   ],
   "source": [
    "center_df = pd.DataFrame(center)\n",
    "center_df.columns = [data.columns]\n",
    "center_df"
   ]
  },
  {
   "cell_type": "markdown",
   "metadata": {
    "colab_type": "text",
    "id": "QmmrKn_U_fsr"
   },
   "source": [
    "### 11. Use kmeans.labels_ function to print out the labels of the classes"
   ]
  },
  {
   "cell_type": "code",
   "execution_count": 63,
   "metadata": {
    "colab": {},
    "colab_type": "code",
    "id": "qnLKD6-j_fsr"
   },
   "outputs": [
    {
     "name": "stdout",
     "output_type": "stream",
     "text": [
      "[1 3 2 3 1 3 3 3 3 3 1 0 1 2 0 1 2 0 0 3 3 2 3 0 2 1 0 1 3 3 2 3 0 1 2 0 2\n",
      " 0 0 3 2 0 0 0 0 3 0 3 2 3 2 3 1 0 2 0 1 0 0 0 1 0 2 3 1 2 1 0 3 2 1 0 0 2\n",
      " 3 0 3 2 3 0 1 0 2 3 2 1 0 2 0 0 2 0 1 3 3 0 1 1 0 0 1 3 1 0 0 0 1 2 2 1 0\n",
      " 0 3 3 0 0 0 0 1 2 2 3 1 0 2 1 0 3 0 3 3 2 0 1 2 1 3 3 3 1 1 3 2 3 2 3 0 3\n",
      " 0 2 3 3 2 2 3 2 0 0 2 2 3 2 1 3 1 3 0 2 0 3 0 2 1 3 1 2 3 1 3 2 3 0 2 0 0\n",
      " 0 1 3 2 2 3 0 1 0 2 3 3 3 2 0 0 2 0 3 2 0 0 0 3 2 3 2 0 0 0 0 2 3 0 3 2 0\n",
      " 3 3 0 2 0 0 3 3 2 0 2 0 3 1 2 3 3 2 2 0 1 3 3 1 0 1 3 0 0 1 3 2 3 0 0 2 3\n",
      " 1 0 0 2 0 3 2 0 3 1 0 3 2 3 2 0 1 3 2 3 3 3 0 0 2 2 2 1 0 0 2 0 0 0 1 0 2\n",
      " 2 0 1 3 0 1 0 3 3 2 2 0 2 2 0 2 3 3 3 0 0 2 2 2 3 3 3 1 0 1 0 1 1 3 2 1 1\n",
      " 2 2 1 0 0 2 0 0 0 1 1 1 1 0 2 2 0 0 2 0 2 0 2 3 1 1 0 1 2 0 3 3 1 1 3 3 3\n",
      " 3 2 3 2 3 2 3 0 0 0 3 1 0 0 3 0 2 3 3 0 0 2 3 0 1 3 2 3 2 3 2 1 0 0 2 3 0\n",
      " 0 1 1 2 0 3 1 2 0 2 2 2 3 1 3 3 3 2 0 0 3 2 1 3 2 1 0 1 0 0 2 3 0 2 2 2 0\n",
      " 2 2 0 1 0 2 2 1 3 0 0 2 1 0 2 2 3 0 2 2 1 0 0 2 2 2 0 0 1 2 2 3 1 2 0 3 2\n",
      " 3 0 0 3 2 0 3 1 0 1 2 1 1 2 1 0 1 2 2 0 0 1 2 3 2 2 1 3 3 3 1 0 0 3 3 2 0\n",
      " 0 1 0 2 1 2 0 0 2 2 1 2 3 3 1 2 0 0 3 2 3 1 0 2 2 2 2 3 0 0 3 2 2 2 3 2 0\n",
      " 3 2 0 0 0 3 0 1 1 3 1 3 1 3 2 3 1 2 3 3 3 0 2 0 0 3 0 3 3 0 0 2 2 0 1 2 3\n",
      " 2 0 0 1 3 0 2 0 2 0 0 3 0 1 2 2 0 1 1 1 0 3 0 2 3 2 0 3 1 1 0 0 0 3 1 3 1\n",
      " 0 1 3 1 1 2 1 0 2 1 1 3 3 2 0 1 0 1 1 1 0 2 3 0 3 2 0 2 3 0 2 0 1 0 0 3 0\n",
      " 1 2 2 1 3 2 2 1 3 0 1 2 2 1 2 3 2 1 1 2 2 3 2 1 1 1 3 2 3 0 2 2 2 3 2 0 0\n",
      " 2 2 2 3 2 3 3 1 1 0 3 0 3 1 1 0 3 3 3 0 2 0 0 0 1 2 0 2 2 0 1 3 1 3 0 1 2\n",
      " 0 3 3 1 2 2 0 2 3 1 2 0 0 2 0 2 0 0 3 2 1 3 0 3 2 2 3 3 0 1 1 2 0 0 2 0 0\n",
      " 2 0 3 0 0 0 1 2 1 1 0 2 3 2 2 0 1 2 0 0 3 1 2 0 0 2 0 1 3 3 3 1 1 2 3 0]\n"
     ]
    }
   ],
   "source": [
    "print(model.labels_)"
   ]
  },
  {
   "cell_type": "markdown",
   "metadata": {},
   "source": [
    "### 12. Use kmeans.labels_ function to print out the labels of the classes"
   ]
  },
  {
   "cell_type": "code",
   "execution_count": 74,
   "metadata": {},
   "outputs": [],
   "source": [
    "# print(model.labels_)"
   ]
  }
 ],
 "metadata": {
  "colab": {
   "name": "R4_Internal_Lab_Clustering_SampleSolution.ipynb",
   "provenance": [],
   "version": "0.3.2"
  },
  "kernelspec": {
   "display_name": "Python 3",
   "language": "python",
   "name": "python3"
  },
  "language_info": {
   "codemirror_mode": {
    "name": "ipython",
    "version": 3
   },
   "file_extension": ".py",
   "mimetype": "text/x-python",
   "name": "python",
   "nbconvert_exporter": "python",
   "pygments_lexer": "ipython3",
   "version": "3.8.5"
  }
 },
 "nbformat": 4,
 "nbformat_minor": 1
}
